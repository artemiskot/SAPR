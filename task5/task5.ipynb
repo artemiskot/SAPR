{
 "cells": [
  {
   "cell_type": "code",
   "execution_count": 1,
   "metadata": {},
   "outputs": [],
   "source": [
    "import numpy as np\n",
    "\n",
    "import json\n",
    "from io import StringIO"
   ]
  },
  {
   "cell_type": "markdown",
   "metadata": {},
   "source": [
    "Задаем длину последовательности"
   ]
  },
  {
   "cell_type": "code",
   "execution_count": 2,
   "metadata": {},
   "outputs": [],
   "source": [
    "SEQ_LEN = 10"
   ]
  },
  {
   "cell_type": "markdown",
   "metadata": {},
   "source": [
    "Создание матрицы отношений"
   ]
  },
  {
   "cell_type": "code",
   "execution_count": 3,
   "metadata": {},
   "outputs": [],
   "source": [
    "def createRow(visited: set, cur: int) -> np.array:\n",
    "    row = []\n",
    "    for i in range(SEQ_LEN):\n",
    "        row.append(1 if i+1 in visited else 0)\n",
    "    return np.array(row)\n",
    "\n",
    "def createMatrix(data: list) -> np.array:\n",
    "    visited = set()\n",
    "    matrix = list()\n",
    "\n",
    "    for elem in data:\n",
    "        if type(elem) == str:\n",
    "            visited.add(int(elem))\n",
    "            row = createRow(visited=visited, cur=int(elem))\n",
    "            matrix.append({'num': int(elem), 'row': row})\n",
    "        else:\n",
    "            for subelem in elem:\n",
    "                visited.add(int(subelem))\n",
    "            for subelem in elem:\n",
    "                row = createRow(visited=visited, cur=int(subelem))\n",
    "                matrix.append({'num': int(subelem), 'row': row})\n",
    "\n",
    "    matrix.sort(key=(lambda x: x['num']))\n",
    "    raw = [elem['row'] for elem in matrix]\n",
    "\n",
    "    return np.array(raw)"
   ]
  },
  {
   "cell_type": "markdown",
   "metadata": {},
   "source": [
    "Ищем пары противоречий"
   ]
  },
  {
   "cell_type": "code",
   "execution_count": 10,
   "metadata": {},
   "outputs": [],
   "source": [
    "def searchContradictions(json_path: str) -> list:\n",
    "    data = json.loads(open(json_path).read())\n",
    "\n",
    "    matrix1 = createMatrix(data['input1'])\n",
    "    matrix2 = createMatrix(data['input2'])\n",
    "\n",
    "    matrix12 = matrix1 * matrix2\n",
    "    matrix12T = matrix1.T * matrix2.T\n",
    "\n",
    "    criterion = np.logical_or(matrix12, matrix12T)\n",
    "\n",
    "    answer = []\n",
    "    for i in range(criterion.shape[0]):\n",
    "        for j in range(i):\n",
    "            if not criterion[i][j]:\n",
    "                answer.append([j+1, i+1])\n",
    "    \n",
    "    flag = True\n",
    "    for row in data['output12']:\n",
    "        flag *= ([int(row[0]), int(row[1])] in answer )\n",
    "        if not flag:\n",
    "            print(f\"Error on {row}\")\n",
    "    if flag:\n",
    "        print(\"Tests successfull!\")\n",
    "\n",
    "    return answer"
   ]
  },
  {
   "cell_type": "code",
   "execution_count": 11,
   "metadata": {},
   "outputs": [
    {
     "name": "stdout",
     "output_type": "stream",
     "text": [
      "Tests completed successfully!\n"
     ]
    },
    {
     "data": {
      "text/plain": [
       "[[8, 9]]"
      ]
     },
     "execution_count": 11,
     "metadata": {},
     "output_type": "execute_result"
    }
   ],
   "source": [
    "searchContradictions(\"example.json\")"
   ]
  }
 ],
 "metadata": {
  "kernelspec": {
   "display_name": "Python 3.10.7 64-bit",
   "language": "python",
   "name": "python3"
  },
  "language_info": {
   "codemirror_mode": {
    "name": "ipython",
    "version": 3
   },
   "file_extension": ".py",
   "mimetype": "text/x-python",
   "name": "python",
   "nbconvert_exporter": "python",
   "pygments_lexer": "ipython3",
   "version": "3.10.7"
  },
  "orig_nbformat": 4,
  "vscode": {
   "interpreter": {
    "hash": "4b8a7764c6edeaa0745c0ecbfeaac9672e3034f30251f220e407fda1bce369bb"
   }
  }
 },
 "nbformat": 4,
 "nbformat_minor": 2
}
